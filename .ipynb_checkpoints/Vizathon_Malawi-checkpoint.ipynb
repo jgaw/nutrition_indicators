{
 "cells": [
  {
   "cell_type": "code",
   "execution_count": 320,
   "metadata": {
    "collapsed": false
   },
   "outputs": [],
   "source": [
    "import pandas as pd\n",
    "import numpy as np\n",
    "import matplotlib.pyplot as plt\n",
    "from scipy.stats.stats import pearsonr\n",
    "% matplotlib inline\n",
    "pd.set_option('display.precision', 5)\n",
    "pd.set_option('display.float_format', lambda x: '%.5f' % x)"
   ]
  },
  {
   "cell_type": "code",
   "execution_count": 321,
   "metadata": {
    "collapsed": false
   },
   "outputs": [],
   "source": [
    "df_ant_cd = pd.read_csv('malawi/mwi_anthropometry_codebook.csv')\n",
    "df_ant = pd.read_csv('malawi/mwi_anthropometry.csv')\n",
    "df_nut_cd = pd.read_csv('malawi/mwi_nutrition_codebook.csv')\n",
    "df_nut = pd.read_csv('malawi/mwi_nutrition.csv')"
   ]
  },
  {
   "cell_type": "code",
   "execution_count": 322,
   "metadata": {
    "collapsed": false
   },
   "outputs": [],
   "source": [
    "df_ant = df_ant.rename(columns = {'haz06' : 'stunted', 'waz06' : 'underweight', 'whz06' : 'wasting', 'bmiz06' : 'bmi'})"
   ]
  },
  {
   "cell_type": "code",
   "execution_count": 323,
   "metadata": {
    "collapsed": false
   },
   "outputs": [],
   "source": [
    "df = df_nut.merge(df_ant, on = 'hhid')"
   ]
  },
  {
   "cell_type": "code",
   "execution_count": 324,
   "metadata": {
    "collapsed": false
   },
   "outputs": [],
   "source": [
    "df_y = df[['stunted', 'underweight', 'wasting', 'bmi']]"
   ]
  },
  {
   "cell_type": "code",
   "execution_count": 325,
   "metadata": {
    "collapsed": false
   },
   "outputs": [
    {
     "data": {
      "text/plain": [
       "Index([u'stunted', u'underweight', u'wasting', u'bmi'], dtype='object')"
      ]
     },
     "execution_count": 325,
     "metadata": {},
     "output_type": "execute_result"
    }
   ],
   "source": [
    "df_y.columns"
   ]
  },
  {
   "cell_type": "code",
   "execution_count": 326,
   "metadata": {
    "collapsed": true
   },
   "outputs": [],
   "source": [
    "df_bmi = df[df.bmi.notnull()]"
   ]
  },
  {
   "cell_type": "code",
   "execution_count": 327,
   "metadata": {
    "collapsed": true
   },
   "outputs": [],
   "source": [
    "def get_corr(df, col):\n",
    "    df_corr = df[df[col].notnull()]\n",
    "    df_corr = df_corr.corr()[[col]]\n",
    "    df_corr = df_corr.applymap(lambda x: abs(x))\n",
    "    df_corr = df_corr.sort(columns = col, ascending= False)\n",
    "    return df_corr"
   ]
  },
  {
   "cell_type": "code",
   "execution_count": 338,
   "metadata": {
    "collapsed": false
   },
   "outputs": [],
   "source": [
    "def corr_and_pvals(df, metric):\n",
    "    temp_list = []\n",
    "    temp_cols = []\n",
    "    for col in df.columns:\n",
    "        temp_df = df[df[metric].notnull() & df[col].notnull()]\n",
    "        if df[col].dtype != 'O':\n",
    "            temp_list.append(pearsonr(temp_df[metric], temp_df[col]))\n",
    "            temp_cols.append(col)\n",
    "    df_p = pd.DataFrame(temp_list)\n",
    "    df_p.index = temp_cols\n",
    "    df_p.columns = [metric + '_correlation', metric + '_p_vals']\n",
    "    return df_p"
   ]
  },
  {
   "cell_type": "code",
   "execution_count": 375,
   "metadata": {
    "collapsed": false
   },
   "outputs": [],
   "source": [
    "df_cp = pd.DataFrame()\n",
    "for col in df_y.columns:\n",
    "    if df_cp.empty:\n",
    "        df_cp = df_cp.append(corr_and_pvals(df, col))\n",
    "    else:\n",
    "        df_cp = df_cp.join(corr_and_pvals(df, col))"
   ]
  },
  {
   "cell_type": "code",
   "execution_count": 377,
   "metadata": {
    "collapsed": false
   },
   "outputs": [],
   "source": [
    "df_cp.to_csv('correlations_and_Pvals.csv')"
   ]
  },
  {
   "cell_type": "code",
   "execution_count": null,
   "metadata": {
    "collapsed": true
   },
   "outputs": [],
   "source": []
  }
 ],
 "metadata": {
  "kernelspec": {
   "display_name": "Python 2",
   "language": "python",
   "name": "python2"
  },
  "language_info": {
   "codemirror_mode": {
    "name": "ipython",
    "version": 2
   },
   "file_extension": ".py",
   "mimetype": "text/x-python",
   "name": "python",
   "nbconvert_exporter": "python",
   "pygments_lexer": "ipython2",
   "version": "2.7.9"
  }
 },
 "nbformat": 4,
 "nbformat_minor": 0
}
