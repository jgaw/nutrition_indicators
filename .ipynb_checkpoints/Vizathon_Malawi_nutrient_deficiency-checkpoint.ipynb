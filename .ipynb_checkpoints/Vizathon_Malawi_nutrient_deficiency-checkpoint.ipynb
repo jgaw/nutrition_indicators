{
 "cells": [
  {
   "cell_type": "code",
   "execution_count": 1,
   "metadata": {
    "collapsed": true
   },
   "outputs": [],
   "source": [
    "import pandas as pd\n",
    "import numpy as np\n",
    "import matplotlib.pyplot as plt\n",
    "import fnmatch\n",
    "\n",
    "% matplotlib inline"
   ]
  },
  {
   "cell_type": "code",
   "execution_count": 2,
   "metadata": {
    "collapsed": false
   },
   "outputs": [],
   "source": [
    "df_ant_cd = pd.read_csv('malawi/mwi_anthropometry_codebook.csv')\n",
    "df_ant = pd.read_csv('malawi/mwi_anthropometry.csv')\n",
    "df_nut_cd = pd.read_csv('malawi/mwi_nutrition_codebook.csv')\n",
    "df_nut = pd.read_csv('malawi/mwi_nutrition.csv')"
   ]
  },
  {
   "cell_type": "code",
   "execution_count": 3,
   "metadata": {
    "collapsed": false
   },
   "outputs": [],
   "source": [
    "df_nut.replace(to_replace='Yes', value = 1, inplace = True)\n",
    "df_nut.replace(to_replace='No', value = 0, inplace = True)\n"
   ]
  },
  {
   "cell_type": "code",
   "execution_count": 10,
   "metadata": {
    "collapsed": true
   },
   "outputs": [],
   "source": [
    "cols = ['def_kcal_rec_hh',\n",
    " 'def_kcal_req_hh',\n",
    " 'def_prot_rec_hh',\n",
    " 'def_prot_req_hh',\n",
    " 'def_iron_rec_hh',\n",
    " 'def_iron_req_hh',\n",
    " 'def_zinc_rec_hh',\n",
    " 'def_zinc_req_hh',\n",
    " 'def_vita_A_rec_hh',\n",
    " 'def_vita_A_req_hh',\n",
    " 'def_vita_E_rec_hh',\n",
    " 'def_vita_E_req_hh',\n",
    " 'def_vita_C_rec_hh',\n",
    " 'def_vita_C_req_hh',\n",
    " 'def_ribof_rec_hh',\n",
    " 'def_ribof_req_hh',\n",
    " 'def_thia_rec_hh',\n",
    " 'def_thia_req_hh',\n",
    " 'def_nia_rec_hh',\n",
    " 'def_nia_req_hh',\n",
    " 'def_vita_B6_rec_hh',\n",
    " 'def_vita_B6_req_hh',\n",
    " 'def_fol_rec_hh',\n",
    " 'def_fol_req_hh',\n",
    " 'def_calcium_rec_hh',\n",
    " 'def_calcium_req_hh',\n",
    " 'def_vita_B12_rec_hh',\n",
    " 'def_vita_B12_req_hh']\n",
    "\n",
    "rec_cols = fnmatch.filter(cols, '*rec*')\n",
    "req_cols = fnmatch.filter(cols, '*req*')"
   ]
  },
  {
   "cell_type": "code",
   "execution_count": 6,
   "metadata": {
    "collapsed": false
   },
   "outputs": [],
   "source": [
    "df_nut['def_rec_count'] = df_nut[rec_cols].sum(axis=1)\n",
    "df_nut['def_rec_pct'] = df_nut.def_rec_count/14.0\n",
    "df_nut['def_req_count'] = df_nut[req_cols].sum(axis=1)\n",
    "df_nut['def_req_pct'] = df_nut.def_req_count/14.0"
   ]
  },
  {
   "cell_type": "code",
   "execution_count": 7,
   "metadata": {
    "collapsed": false
   },
   "outputs": [],
   "source": [
    "df_nut[['hhid','def_rec_count','def_rec_pct','def_req_count', 'def_req_pct']].to_csv('malawi_hh_nutrient_deficiency.csv')"
   ]
  },
  {
   "cell_type": "code",
   "execution_count": null,
   "metadata": {
    "collapsed": true
   },
   "outputs": [],
   "source": []
  }
 ],
 "metadata": {
  "kernelspec": {
   "display_name": "Python 2",
   "language": "python",
   "name": "python2"
  },
  "language_info": {
   "codemirror_mode": {
    "name": "ipython",
    "version": 2
   },
   "file_extension": ".py",
   "mimetype": "text/x-python",
   "name": "python",
   "nbconvert_exporter": "python",
   "pygments_lexer": "ipython2",
   "version": "2.7.9"
  }
 },
 "nbformat": 4,
 "nbformat_minor": 0
}
