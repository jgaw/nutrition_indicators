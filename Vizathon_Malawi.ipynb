{
 "cells": [
  {
   "cell_type": "code",
   "execution_count": 66,
   "metadata": {
    "collapsed": true
   },
   "outputs": [],
   "source": [
    "import pandas as pd\n",
    "import numpy as np\n",
    "import matplotlib.pyplot as plt\n",
    "% matplotlib inline"
   ]
  },
  {
   "cell_type": "code",
   "execution_count": 85,
   "metadata": {
    "collapsed": false
   },
   "outputs": [],
   "source": [
    "df_ant_cd = pd.read_csv('malawi/mwi_anthropometry_codebook.csv')\n",
    "df_ant = pd.read_csv('malawi/mwi_anthropometry.csv')\n",
    "df_nut_cd = pd.read_csv('malawi/mwi_nutrition_codebook.csv')\n",
    "df_nut = pd.read_csv('malawi/mwi_nutrition.csv')"
   ]
  },
  {
   "cell_type": "code",
   "execution_count": 86,
   "metadata": {
    "collapsed": false
   },
   "outputs": [],
   "source": [
    "df = df_nut.merge(df_ant, on = 'hhid')"
   ]
  },
  {
   "cell_type": "code",
   "execution_count": 74,
   "metadata": {
    "collapsed": true
   },
   "outputs": [],
   "source": [
    "def get_corr(df, col):\n",
    "    df_corr = df[df[col].notnull()]\n",
    "    df_corr = df_corr.corr()[[col]]\n",
    "    df_corr = df_corr.applymap(lambda x: abs(x))\n",
    "    df_corr = df_corr.sort(columns = col, ascending= False)\n",
    "    return df_corr"
   ]
  },
  {
   "cell_type": "code",
   "execution_count": 89,
   "metadata": {
    "collapsed": false
   },
   "outputs": [],
   "source": [
    "df.corr()[['bmiz06','whz06','waz06', 'haz06']].to_csv('correlations.csv')"
   ]
  },
  {
   "cell_type": "code",
   "execution_count": null,
   "metadata": {
    "collapsed": true
   },
   "outputs": [],
   "source": []
  }
 ],
 "metadata": {
  "kernelspec": {
   "display_name": "Python 2",
   "language": "python",
   "name": "python2"
  },
  "language_info": {
   "codemirror_mode": {
    "name": "ipython",
    "version": 2
   },
   "file_extension": ".py",
   "mimetype": "text/x-python",
   "name": "python",
   "nbconvert_exporter": "python",
   "pygments_lexer": "ipython2",
   "version": "2.7.9"
  }
 },
 "nbformat": 4,
 "nbformat_minor": 0
}
